{
  "cells": [
    {
      "cell_type": "code",
      "execution_count": 1,
      "metadata": {
        "id": "ofBEVj_a2x1w"
      },
      "outputs": [],
      "source": [
        "from bs4 import BeautifulSoup\n",
        "import requests\n",
        "import requests.exceptions\n",
        "import urllib.parse\n",
        "from collections import deque\n",
        "import re\n"
      ]
    },
    {
      "cell_type": "code",
      "execution_count": 7,
      "metadata": {
        "id": "agdXED-pZVYJ",
        "colab": {
          "base_uri": "https://localhost:8080/"
        },
        "outputId": "98b3e004-d88a-4254-e7c0-e7e59ce7b163"
      },
      "outputs": [
        {
          "output_type": "stream",
          "name": "stdout",
          "text": [
            "[+] Enter target URL to scan: https://www.speakrj.com/audit/top/youtube\n",
            "[1] Processing https://www.speakrj.com/audit/top/youtube\n",
            "[2] Processing https://www.speakrj.com/audit/\n",
            "[3] Processing https://www.speakrj.com/audit/top/#\n",
            "[4] Processing https://www.speakrj.com/audit/top/platform/instagram\n",
            "[5] Processing https://www.speakrj.com/audit/top/platform/twitter\n",
            "[6] Processing https://www.speakrj.com/audit/top/platform/youtube\n",
            "[7] Processing https://www.speakrj.com/audit/top/platform/facebook\n",
            "[8] Processing https://www.speakrj.com/audit/top/compare/instagram\n",
            "[9] Processing https://www.speakrj.com/audit/top/compare/twitter\n",
            "jankylanky@moreyellow.com\n",
            "AirwaveRecords@gmail.com\n",
            "tbfofficial.team@gmail.com\n",
            "TheHollywoodFix@gmail.co\n",
            "marcaskim@gmail.com\n",
            "TheExposeUnit@gmail.com\n",
            "contato@ojeanluca.com\n",
            "kaka@nonstopproducoes.com.br\n",
            "DigitalBethanyMotaTeam@unitedtalent.com\n",
            "nguyenlenh147@gmail.com\n",
            "artbyaryan@gmail.com\n",
            "gaspoohyt@gmail.com\n",
            "luisitocomunica@wearedw.com\n",
            "denissegh@hotmail.com\n",
            "addyologybusiness@gmail.com\n",
            "connect@monamighosh.com\n",
            "business@krinios.com\n",
            "shfaworld@gmail.com\n",
            "bababusinessofficial5@gmail.com\n",
            "ContactoDeigamerYT@gmail.com\n",
            "officialbanwarilal@gmail.com\n",
            "nilanjanabrandaone@gmail.com\n",
            "Nando@yolodigital.com\n",
            "itsbaba36@gmail.com\n",
            "businessneonman@gmail.com\n",
            "stodjarr@gmail.com\n"
          ]
        }
      ],
      "source": [
        "\n",
        "user_url = str(input('[+] Enter target URL to scan: '))\n",
        "uls = deque([user_url])\n",
        "\n",
        "scraped_urls = set()\n",
        "gmails = set()\n",
        "\n",
        "count = 0\n",
        "try:\n",
        "  while len(uls):\n",
        "    count += 1\n",
        "    if count == 10:\n",
        "      break\n",
        "    url = uls.popleft()\n",
        "    scraped_urls.add(url)\n",
        "\n",
        "    parts = urllib.parse.urlsplit(url)\n",
        "    base_url = '{0.scheme}://{0.netloc}'.format(parts)\n",
        "\n",
        "    path = url[:url.rfind('/')+1] if '/' in parts.path else url\n",
        "\n",
        "    print('[%d] Processing %s' % (count, url))\n",
        "    try:\n",
        "      response = requests.get(url)\n",
        "    except (requests.exceptions.MissingSchema, requests.exceptions.ConnectionError):\n",
        "      continue\n",
        "\n",
        "    new_emails = set(re.findall(r'[a-z0-9\\.\\-+_]+@[a-z0-9\\.\\-+_]+\\.[a-z]+', response.text, re.I))\n",
        "    gmails.update(new_emails)\n",
        "\n",
        "    soup = BeautifulSoup(response.text, features=\"lxml\")\n",
        "\n",
        "    for anc in soup.find_all(\"a\"):\n",
        "      link = anc.attrs['href'] if 'href' in anc.attrs else ''\n",
        "      if link.startswith('/'):\n",
        "        link = base_url + link\n",
        "      elif not link.startswith('http'):\n",
        "        link = path + link\n",
        "      if not link in uls and not link in scraped_urls:\n",
        "        uls.append(link)\n",
        "except KeyboardInterrupt:\n",
        "  print('[-] Closing!')\n",
        "\n",
        "for mail in gmails:\n",
        "  print(mail)"
      ]
    },
    {
      "cell_type": "code",
      "source": [
        "for m in gmails:\n",
        "  print(m)"
      ],
      "metadata": {
        "colab": {
          "base_uri": "https://localhost:8080/"
        },
        "id": "CG3oWTaMIqk8",
        "outputId": "622ab48c-9502-4037-fdb1-5d5813bd7ede"
      },
      "execution_count": 8,
      "outputs": [
        {
          "output_type": "stream",
          "name": "stdout",
          "text": [
            "jankylanky@moreyellow.com\n",
            "AirwaveRecords@gmail.com\n",
            "tbfofficial.team@gmail.com\n",
            "TheHollywoodFix@gmail.co\n",
            "marcaskim@gmail.com\n",
            "TheExposeUnit@gmail.com\n",
            "contato@ojeanluca.com\n",
            "kaka@nonstopproducoes.com.br\n",
            "DigitalBethanyMotaTeam@unitedtalent.com\n",
            "nguyenlenh147@gmail.com\n",
            "artbyaryan@gmail.com\n",
            "gaspoohyt@gmail.com\n",
            "luisitocomunica@wearedw.com\n",
            "denissegh@hotmail.com\n",
            "addyologybusiness@gmail.com\n",
            "connect@monamighosh.com\n",
            "business@krinios.com\n",
            "shfaworld@gmail.com\n",
            "bababusinessofficial5@gmail.com\n",
            "ContactoDeigamerYT@gmail.com\n",
            "officialbanwarilal@gmail.com\n",
            "nilanjanabrandaone@gmail.com\n",
            "Nando@yolodigital.com\n",
            "itsbaba36@gmail.com\n",
            "businessneonman@gmail.com\n",
            "stodjarr@gmail.com\n"
          ]
        }
      ]
    }
  ],
  "metadata": {
    "colab": {
      "provenance": []
    },
    "kernelspec": {
      "display_name": "Python 3",
      "name": "python3"
    },
    "language_info": {
      "name": "python"
    }
  },
  "nbformat": 4,
  "nbformat_minor": 0
}