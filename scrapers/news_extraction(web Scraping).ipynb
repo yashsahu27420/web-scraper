{
  "nbformat": 4,
  "nbformat_minor": 0,
  "metadata": {
    "colab": {
      "provenance": []
    },
    "kernelspec": {
      "name": "python3",
      "display_name": "Python 3"
    },
    "language_info": {
      "name": "python"
    }
  },
  "cells": [
    {
      "cell_type": "code",
      "source": [
        "from bs4 import BeautifulSoup as bs\n",
        "import requests as rs\n",
        "\n",
        "url = \"https://www.businesstoday.in/latest/corporate\"\n",
        "req = rs.get(url)\n",
        "s= bs(req.content, 'html.parser' )\n",
        "rawdata=s.find_all(\"div\", class_=\"section-listing-LHS\",limit=6)\n",
        "for data in rawdata:\n",
        "     news=data.div.div.h2.a[\"title\"]\n",
        "     finalnews = str(news)\n",
        "finalnews"
      ],
      "metadata": {
        "colab": {
          "base_uri": "https://localhost:8080/",
          "height": 35
        },
        "id": "yDg-ala1zKLH",
        "outputId": "cc5c7d21-7359-4834-a7d3-a7e11a8fb754"
      },
      "execution_count": 93,
      "outputs": [
        {
          "output_type": "execute_result",
          "data": {
            "text/plain": [
              "\"Reliance Retail's FMCG arm forms JV with Gujarat-based Sosyo Hajoori Beverages\""
            ],
            "application/vnd.google.colaboratory.intrinsic+json": {
              "type": "string"
            }
          },
          "metadata": {},
          "execution_count": 93
        }
      ]
    },
    {
      "cell_type": "code",
      "source": [],
      "metadata": {
        "id": "BM-f6NtPC4lC"
      },
      "execution_count": 92,
      "outputs": []
    },
    {
      "cell_type": "markdown",
      "source": [],
      "metadata": {
        "id": "50_SuukOtxmm"
      }
    }
  ]
}